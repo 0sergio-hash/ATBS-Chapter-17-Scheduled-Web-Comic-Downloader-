{
 "cells": [
  {
   "cell_type": "markdown",
   "metadata": {},
   "source": [
    "# [Instructions for this project](https://automatetheboringstuff.com/2e/chapter17/)"
   ]
  },
  {
   "cell_type": "markdown",
   "metadata": {},
   "source": [
    "This one was interesting. It feels a bit duct taped together, and I probably need to review CSS and HTML, but building on a previous follow along project, I was able to get it to work. The scheduler could execute this script on startup amd check if it can download a page for a URL ending in today's date. I had to handle the redirect a little funny given _raise_for_status()_ did not raise an error for redirects."
   ]
  },
  {
   "cell_type": "code",
   "execution_count": 1,
   "metadata": {},
   "outputs": [
    {
     "name": "stdout",
     "output_type": "stream",
     "text": [
      "Downloading image https://assets.amuniversal.com/76d96ec0f49b0139779a005056a9545d...\n",
      "Today's comic saved to the Desktop, enjoy!\n"
     ]
    }
   ],
   "source": [
    "# Practice project Scheduled Web Comic Downloader\n",
    "\n",
    "# Import libraries\n",
    "import os, requests, bs4, datetime\n",
    "\n",
    "# Change directory to Desktop\n",
    "deskTop = 'C:\\\\Users\\\\Administrator\\\\Desktop\\\\'\n",
    "os.chdir(deskTop)\n",
    "\n",
    "# Define redirect message\n",
    "redirect = '<html><body>You are being <a href=\"https://www.gocomics.com/calvinandhobbes\">redirected</a>.</body></html>'\n",
    "\n",
    "#Define URL by concatonating base URL with today's dated, formatted the same as it would be in today's comic's url if it exists\n",
    "basrUrl = 'https://www.gocomics.com/calvinandhobbes/'\n",
    "\n",
    "rightNow = datetime.datetime.now()\n",
    "\n",
    "rightNowString = rightNow.strftime('%Y/%m/%d')\n",
    "\n",
    "todaysUrl = basrUrl + rightNowString\n",
    "\n",
    "# Make request\n",
    "res = requests.get(todaysUrl,allow_redirects=False)\n",
    "res.raise_for_status()\n",
    "\n",
    "if res.text != redirect:\n",
    "    \n",
    "    soup = bs4.BeautifulSoup(res.text,'html.parser')\n",
    "    comicElem = soup.select(\".img-fluid\")\n",
    "\n",
    "    if comicElem == []:\n",
    "        print('Could not find comic image.')\n",
    "    else:\n",
    "        comicUrl = comicElem[1].get('src')\n",
    "   \n",
    "        # Download the image.\n",
    "        print('Downloading image %s...' % (comicUrl))\n",
    "        res = requests.get(comicUrl)\n",
    "        res.raise_for_status()\n",
    "\n",
    "        # Save the image to Desktop.\n",
    "        imageFile = open(os.path.join(deskTop,os.path.basename(comicUrl)+'.png'),'wb')\n",
    "        for chunk in res.iter_content(100000):\n",
    "            imageFile.write(chunk)\n",
    "        imageFile.close()\n",
    "        \n",
    "        print(\"Today's comic saved to the Desktop, enjoy!\")\n",
    "else:\n",
    "    print(\"Today's comic has not been uploaded.\")"
   ]
  }
 ],
 "metadata": {
  "kernelspec": {
   "display_name": "ibm_project",
   "language": "python",
   "name": "ibm_project"
  },
  "language_info": {
   "codemirror_mode": {
    "name": "ipython",
    "version": 3
   },
   "file_extension": ".py",
   "mimetype": "text/x-python",
   "name": "python",
   "nbconvert_exporter": "python",
   "pygments_lexer": "ipython3",
   "version": "3.7.9"
  }
 },
 "nbformat": 4,
 "nbformat_minor": 4
}
